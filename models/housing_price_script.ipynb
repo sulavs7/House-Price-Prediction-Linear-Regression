{
 "cells": [
  {
   "cell_type": "code",
   "execution_count": 22,
   "metadata": {},
   "outputs": [],
   "source": [
    "import pickle \n",
    "import pandas as pd\n",
    "from sklearn.preprocessing import StandardScaler\n",
    "from evaluation import evaluate_predictions\n",
    "from sklearn.metrics import r2_score,mean_squared_error"
   ]
  },
  {
   "cell_type": "code",
   "execution_count": 23,
   "metadata": {},
   "outputs": [
    {
     "name": "stdout",
     "output_type": "stream",
     "text": [
      "\n",
      "Linear Regression Predictions for Validation Data:\n",
      "[15.09470434 15.14624527 15.23970168 15.79976319 14.82057404 15.07315646\n",
      " 15.05524881 15.09999802 15.53765254 15.03249006 15.86086058 15.47468915\n",
      " 15.04859327 15.33076037 15.08011776 15.18653149 15.67590657 15.75316568\n",
      " 15.49249723 15.28807687 15.0688739  15.2303115  15.61604692 15.36452901\n",
      " 15.07486786 14.94050155 15.78931653 15.69289068 15.06773632 14.7398578\n",
      " 15.69308495 15.78175515 15.42271457 15.03517568 15.52708936 15.73923528\n",
      " 14.91230809 15.11048775 14.73273563 15.85355723 15.15771203 15.4225407\n",
      " 15.60099001 15.48653526 15.52793924 15.46571339 15.11770573 15.65752978\n",
      " 15.16933422 15.31110368 15.69337418 14.91083569 15.15059563 15.29396546\n",
      " 15.63607087 15.3085063  15.33784525 15.44026559 15.24217575 15.24537047\n",
      " 15.47546204 15.40130756 15.35343236 14.98840685 15.48589441 14.91511344\n",
      " 15.27266409 15.43239932 15.78680919 15.47479668 15.37062423 14.84385831\n",
      " 15.12034445 15.40451531 15.99072561 15.2037047  15.19489217 14.95026523\n",
      " 15.30727125 14.79081908 15.04804202 14.91638066]\n"
     ]
    }
   ],
   "source": [
    "import joblib\n",
    "\n",
    "# Load the model, scaler, and scaled validation data\n",
    "housing_lr_model = joblib.load(\"housing_price_model.pkl\")\n",
    "scaler = joblib.load(\"scaler.pkl\")\n",
    "x_valid_scaled = joblib.load(\"x_valid_scaled.pkl\")\n",
    "data=joblib.load(\"predictions_data.pkl\")\n",
    "\n",
    "# Extract predictions and actual values from the loaded data\n",
    "y_valid_pred = data['y_valid_pred']\n",
    "y_valid_actual = data['y_valid_actual']\n",
    "y_train_pred= data['y_train_pred']\n",
    "y_train_actual = data['y_train_actual']\n",
    "\n",
    "# Make predictions\n",
    "lr_predictions = housing_lr_model.predict(x_valid_scaled)\n",
    "\n",
    "# Print predictions\n",
    "print(\"\\nLinear Regression Predictions for Validation Data:\")\n",
    "print(lr_predictions)\n"
   ]
  },
  {
   "cell_type": "code",
   "execution_count": 24,
   "metadata": {},
   "outputs": [
    {
     "name": "stdout",
     "output_type": "stream",
     "text": [
      "{'MAE': np.float64(0.15271191679091944), 'MSE': np.float64(0.03394261132265886), 'RMSE': np.float64(0.1842352065232345), 'R2': 0.7047610771083209}\n"
     ]
    }
   ],
   "source": [
    "#evaluation on validation data\n",
    "\n",
    "metrics=evaluate_predictions(y_valid_actual, y_valid_pred)\n",
    "print(metrics)"
   ]
  }
 ],
 "metadata": {
  "kernelspec": {
   "display_name": "Python 3",
   "language": "python",
   "name": "python3"
  },
  "language_info": {
   "codemirror_mode": {
    "name": "ipython",
    "version": 3
   },
   "file_extension": ".py",
   "mimetype": "text/x-python",
   "name": "python",
   "nbconvert_exporter": "python",
   "pygments_lexer": "ipython3",
   "version": "3.12.3"
  }
 },
 "nbformat": 4,
 "nbformat_minor": 2
}
